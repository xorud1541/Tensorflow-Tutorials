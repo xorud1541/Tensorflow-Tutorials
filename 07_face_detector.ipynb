{
 "cells": [
  {
   "cell_type": "code",
   "execution_count": null,
   "metadata": {},
   "outputs": [],
   "source": [
    "#!pip install torch==1.4.0+cpu torchvision==0.5.0+cpu -f https://download.pytorch.org/whl/torch_stable.html\n",
    "#!pip install facenet_pytorch\n",
    "#!pip install opencv-python\n",
    "#!pip install numpy\n",
    "#!pip install pillow"
   ]
  },
  {
   "cell_type": "code",
   "execution_count": 2,
   "metadata": {},
   "outputs": [],
   "source": [
    "from PIL import Image \n",
    "from tqdm.auto import tqdm\n",
    "\n",
    "import torch\n",
    "import numpy as np\n",
    "import cv2\n",
    "\n",
    "from facenet_pytorch import MTCNN\n",
    "\n",
    "video_path = 'data/video_face_tracking.mp4'\n",
    "write_path = 'data/video_face_tracking_out.avi'\n",
    "\n",
    "fd = MTCNN()\n",
    "\n",
    "def get_frames(video_path = video_path):\n",
    "    cap = cv2.VideoCapture(video_path)\n",
    "    while True:\n",
    "        ret, img = cap.read()\n",
    "        if not ret:\n",
    "            cap.release()\n",
    "            return None\n",
    "        yield img[:,:,[2,1,0]].copy()\n",
    "        \n",
    "def write_frames(imgs, write_path = write_path):\n",
    "    fourcc = cv2.VideoWriter_fourcc(*'DIVX')\n",
    "    h, w = imgs[0].shape[:2]\n",
    "    out = cv2.VideoWriter(video_path, fourcc, 10.0, (w, h))\n",
    "    \n",
    "    for img in imgs:\n",
    "        out.write(img)\n",
    "    out.release()\n",
    "    \n",
    "def detect(batchs):\n",
    "    for batch in batchs:\n",
    "        fs, ps = fd.detect(list(batch))\n",
    "        for face_boxes, probs in zip(fs, ps):\n",
    "            yield face_boxes, probs\n",
    "\n",
    "def draw_boxes(img, boxes):\n",
    "    for (x1, y1, x2, y2) in boxes:\n",
    "        cv2.rectangle(img, (x1, y1), (x2, y2), color=(255,0,0), thickness=4)\n",
    "    return img"
   ]
  },
  {
   "cell_type": "code",
   "execution_count": 4,
   "metadata": {},
   "outputs": [
    {
     "data": {
      "text/html": [
       "<video src=\"data/video_face_tracking.mp4\" controls  width=\"512\" >\n",
       "      Your browser does not support the <code>video</code> element.\n",
       "    </video>"
      ],
      "text/plain": [
       "<IPython.core.display.Video object>"
      ]
     },
     "execution_count": 4,
     "metadata": {},
     "output_type": "execute_result"
    }
   ],
   "source": [
    "from IPython.display import Video\n",
    "Video(video_path, width=512)"
   ]
  },
  {
   "cell_type": "code",
   "execution_count": 5,
   "metadata": {},
   "outputs": [],
   "source": [
    "frames = [frame for frame in get_frames()]\n",
    "batchs = np.array_split(frames, 20)"
   ]
  },
  {
   "cell_type": "code",
   "execution_count": null,
   "metadata": {},
   "outputs": [
    {
     "data": {
      "application/vnd.jupyter.widget-view+json": {
       "model_id": "8726d9f2c0ad453db4f632216596b3f1",
       "version_major": 2,
       "version_minor": 0
      },
      "text/plain": [
       "HBox(children=(IntProgress(value=0, max=105), HTML(value='')))"
      ]
     },
     "metadata": {},
     "output_type": "display_data"
    }
   ],
   "source": [
    "frame_infos = detect(batchs) \n",
    "frame_infos = tqdm(frame_infos, total=len(frames))\n",
    "frame_infos = list(frame_infos)"
   ]
  },
  {
   "cell_type": "code",
   "execution_count": 10,
   "metadata": {},
   "outputs": [],
   "source": [
    "imgs = [draw_boxes(img, box) for img, (box, _) in zip(frames, frame_infos)]"
   ]
  },
  {
   "cell_type": "code",
   "execution_count": 11,
   "metadata": {},
   "outputs": [
    {
     "ename": "IndexError",
     "evalue": "list index out of range",
     "output_type": "error",
     "traceback": [
      "\u001b[1;31m---------------------------------------------------------------------------\u001b[0m",
      "\u001b[1;31mIndexError\u001b[0m                                Traceback (most recent call last)",
      "\u001b[1;32m<ipython-input-11-25d11028e6bb>\u001b[0m in \u001b[0;36m<module>\u001b[1;34m\u001b[0m\n\u001b[1;32m----> 1\u001b[1;33m \u001b[0mImage\u001b[0m\u001b[1;33m.\u001b[0m\u001b[0mfromarray\u001b[0m\u001b[1;33m(\u001b[0m\u001b[0mimgs\u001b[0m\u001b[1;33m[\u001b[0m\u001b[1;36m0\u001b[0m\u001b[1;33m]\u001b[0m\u001b[1;33m)\u001b[0m\u001b[1;33m\u001b[0m\u001b[1;33m\u001b[0m\u001b[0m\n\u001b[0m",
      "\u001b[1;31mIndexError\u001b[0m: list index out of range"
     ]
    }
   ],
   "source": [
    "Image.fromarray(imgs[0])"
   ]
  },
  {
   "cell_type": "code",
   "execution_count": 7,
   "metadata": {},
   "outputs": [],
   "source": [
    "write_frames(imgs)"
   ]
  },
  {
   "cell_type": "markdown",
   "metadata": {},
   "source": [
    "---\n",
    "## 숙제\n",
    "  \n",
    "1. 이 노트북을 실행시켜 ./data/video_face_tracking_out.avi 파일을 생성하고 곰플레이어 등으로 열어서 감상하세요.\n",
    "     \n",
    "2. 이 노트북의 모든 코드셀을 분석 후 적당히 주석을 달아 주세요.   \n",
    "\n",
    "3. 출력 동영상은 사람들 얼굴에 붉은 박스로 표시를 했는데요\n",
    "   각 프레임별로 가장 확률이 높게 예측한 박스는 녹색으로 표기해 주세요.  \n",
    "   (나머지 박스는 기존과 같이 붉은색으로 표기하면 됩니다)\n",
    "   \n",
    "4. *remind* 각자 Numpy를 마스터 하세요.  유튜브와 관련책을 참고하면 좋습니다."
   ]
  }
 ],
 "metadata": {
  "kernelspec": {
   "display_name": "Python 3",
   "language": "python",
   "name": "python3"
  },
  "language_info": {
   "codemirror_mode": {
    "name": "ipython",
    "version": 3
   },
   "file_extension": ".py",
   "mimetype": "text/x-python",
   "name": "python",
   "nbconvert_exporter": "python",
   "pygments_lexer": "ipython3",
   "version": "3.7.4"
  }
 },
 "nbformat": 4,
 "nbformat_minor": 4
}
