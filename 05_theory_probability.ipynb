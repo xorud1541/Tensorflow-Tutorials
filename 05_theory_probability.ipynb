{
 "cells": [
  {
   "cell_type": "markdown",
   "metadata": {
    "slideshow": {
     "slide_type": "slide"
    }
   },
   "source": [
    "# 확률론과 정보이론"
   ]
  },
  {
   "cell_type": "markdown",
   "metadata": {
    "slideshow": {
     "slide_type": "slide"
    }
   },
   "source": [
    "------\n",
    "### 박스 11개 만들기\n",
    "* 0 번부터 10번까지 번호가 붙은 박스를 만든다\n",
    "* 각 상자에는 10개의 카드가 있다\n",
    "* 번호가 *i* 인 상자에는 Red 색 카드가 *i* 개 들어 있다"
   ]
  },
  {
   "cell_type": "code",
   "execution_count": 2,
   "metadata": {
    "slideshow": {
     "slide_type": "fragment"
    }
   },
   "outputs": [
    {
     "data": {
      "text/plain": [
       "{0: ['B', 'B', 'B', 'B', 'B', 'B', 'B', 'B', 'B', 'B'],\n",
       " 1: ['R', 'B', 'B', 'B', 'B', 'B', 'B', 'B', 'B', 'B'],\n",
       " 2: ['R', 'R', 'B', 'B', 'B', 'B', 'B', 'B', 'B', 'B'],\n",
       " 3: ['R', 'R', 'R', 'B', 'B', 'B', 'B', 'B', 'B', 'B'],\n",
       " 4: ['R', 'R', 'R', 'R', 'B', 'B', 'B', 'B', 'B', 'B'],\n",
       " 5: ['R', 'R', 'R', 'R', 'R', 'B', 'B', 'B', 'B', 'B'],\n",
       " 6: ['R', 'R', 'R', 'R', 'R', 'R', 'B', 'B', 'B', 'B'],\n",
       " 7: ['R', 'R', 'R', 'R', 'R', 'R', 'R', 'B', 'B', 'B'],\n",
       " 8: ['R', 'R', 'R', 'R', 'R', 'R', 'R', 'R', 'B', 'B'],\n",
       " 9: ['R', 'R', 'R', 'R', 'R', 'R', 'R', 'R', 'R', 'B'],\n",
       " 10: ['R', 'R', 'R', 'R', 'R', 'R', 'R', 'R', 'R', 'R']}"
      ]
     },
     "execution_count": 2,
     "metadata": {},
     "output_type": "execute_result"
    }
   ],
   "source": [
    "boxes = {i:['R']*i + ['B'] * (10-i) for i in range(11)}\n",
    "boxes"
   ]
  },
  {
   "cell_type": "markdown",
   "metadata": {
    "slideshow": {
     "slide_type": "subslide"
    }
   },
   "source": [
    "* 이쁘게 출력해 보기"
   ]
  },
  {
   "cell_type": "code",
   "execution_count": 3,
   "metadata": {
    "slideshow": {
     "slide_type": "fragment"
    }
   },
   "outputs": [
    {
     "name": "stdout",
     "output_type": "stream",
     "text": [
      " 0:  \u001b[34m♠\u001b[0m \u001b[34m♠\u001b[0m \u001b[34m♠\u001b[0m \u001b[34m♠\u001b[0m \u001b[34m♠\u001b[0m \u001b[34m♠\u001b[0m \u001b[34m♠\u001b[0m \u001b[34m♠\u001b[0m \u001b[34m♠\u001b[0m \u001b[34m♠\u001b[0m\n",
      " 1:  \u001b[31m♠\u001b[0m \u001b[34m♠\u001b[0m \u001b[34m♠\u001b[0m \u001b[34m♠\u001b[0m \u001b[34m♠\u001b[0m \u001b[34m♠\u001b[0m \u001b[34m♠\u001b[0m \u001b[34m♠\u001b[0m \u001b[34m♠\u001b[0m \u001b[34m♠\u001b[0m\n",
      " 2:  \u001b[31m♠\u001b[0m \u001b[31m♠\u001b[0m \u001b[34m♠\u001b[0m \u001b[34m♠\u001b[0m \u001b[34m♠\u001b[0m \u001b[34m♠\u001b[0m \u001b[34m♠\u001b[0m \u001b[34m♠\u001b[0m \u001b[34m♠\u001b[0m \u001b[34m♠\u001b[0m\n",
      " 3:  \u001b[31m♠\u001b[0m \u001b[31m♠\u001b[0m \u001b[31m♠\u001b[0m \u001b[34m♠\u001b[0m \u001b[34m♠\u001b[0m \u001b[34m♠\u001b[0m \u001b[34m♠\u001b[0m \u001b[34m♠\u001b[0m \u001b[34m♠\u001b[0m \u001b[34m♠\u001b[0m\n",
      " 4:  \u001b[31m♠\u001b[0m \u001b[31m♠\u001b[0m \u001b[31m♠\u001b[0m \u001b[31m♠\u001b[0m \u001b[34m♠\u001b[0m \u001b[34m♠\u001b[0m \u001b[34m♠\u001b[0m \u001b[34m♠\u001b[0m \u001b[34m♠\u001b[0m \u001b[34m♠\u001b[0m\n",
      " 5:  \u001b[31m♠\u001b[0m \u001b[31m♠\u001b[0m \u001b[31m♠\u001b[0m \u001b[31m♠\u001b[0m \u001b[31m♠\u001b[0m \u001b[34m♠\u001b[0m \u001b[34m♠\u001b[0m \u001b[34m♠\u001b[0m \u001b[34m♠\u001b[0m \u001b[34m♠\u001b[0m\n",
      " 6:  \u001b[31m♠\u001b[0m \u001b[31m♠\u001b[0m \u001b[31m♠\u001b[0m \u001b[31m♠\u001b[0m \u001b[31m♠\u001b[0m \u001b[31m♠\u001b[0m \u001b[34m♠\u001b[0m \u001b[34m♠\u001b[0m \u001b[34m♠\u001b[0m \u001b[34m♠\u001b[0m\n",
      " 7:  \u001b[31m♠\u001b[0m \u001b[31m♠\u001b[0m \u001b[31m♠\u001b[0m \u001b[31m♠\u001b[0m \u001b[31m♠\u001b[0m \u001b[31m♠\u001b[0m \u001b[31m♠\u001b[0m \u001b[34m♠\u001b[0m \u001b[34m♠\u001b[0m \u001b[34m♠\u001b[0m\n",
      " 8:  \u001b[31m♠\u001b[0m \u001b[31m♠\u001b[0m \u001b[31m♠\u001b[0m \u001b[31m♠\u001b[0m \u001b[31m♠\u001b[0m \u001b[31m♠\u001b[0m \u001b[31m♠\u001b[0m \u001b[31m♠\u001b[0m \u001b[34m♠\u001b[0m \u001b[34m♠\u001b[0m\n",
      " 9:  \u001b[31m♠\u001b[0m \u001b[31m♠\u001b[0m \u001b[31m♠\u001b[0m \u001b[31m♠\u001b[0m \u001b[31m♠\u001b[0m \u001b[31m♠\u001b[0m \u001b[31m♠\u001b[0m \u001b[31m♠\u001b[0m \u001b[31m♠\u001b[0m \u001b[34m♠\u001b[0m\n",
      "10:  \u001b[31m♠\u001b[0m \u001b[31m♠\u001b[0m \u001b[31m♠\u001b[0m \u001b[31m♠\u001b[0m \u001b[31m♠\u001b[0m \u001b[31m♠\u001b[0m \u001b[31m♠\u001b[0m \u001b[31m♠\u001b[0m \u001b[31m♠\u001b[0m \u001b[31m♠\u001b[0m\n"
     ]
    }
   ],
   "source": [
    "from termcolor import colored\n",
    "\n",
    "color = {'R':colored('♠', 'red'), 'B':colored('♠', 'blue')}\n",
    "pp = lambda cards: ' '.join([color[c] for c in cards])\n",
    "\n",
    "for i, box in boxes.items():\n",
    "    print(f'{i:2}: ', pp(box))"
   ]
  },
  {
   "cell_type": "markdown",
   "metadata": {
    "slideshow": {
     "slide_type": "slide"
    }
   },
   "source": [
    "------\n",
    "### 딜러 \n",
    "* 박스를 하나 고른다\n",
    "* 고른 박스에서 카드를 복원 추출 방식으로 *n*번 꺼내어 보여준다. \n",
    "  * 복원 추출: 꺼낸 카드를 다시 넣고 다음 카드를 꺼낸다는 의미"
   ]
  },
  {
   "cell_type": "code",
   "execution_count": 4,
   "metadata": {
    "slideshow": {
     "slide_type": "subslide"
    }
   },
   "outputs": [],
   "source": [
    "import random\n",
    "\n",
    "def 딜러(박스번호):\n",
    "    박스 = boxes[박스번호]\n",
    "    추출 = lambda: random.choice(박스)\n",
    "    n번추출 = lambda n: [추출() for _ in range(n)]\n",
    "    return n번추출"
   ]
  },
  {
   "cell_type": "code",
   "execution_count": 5,
   "metadata": {
    "slideshow": {
     "slide_type": "slide"
    }
   },
   "outputs": [
    {
     "name": "stdout",
     "output_type": "stream",
     "text": [
      "\u001b[31m♠\u001b[0m \u001b[34m♠\u001b[0m \u001b[31m♠\u001b[0m \u001b[34m♠\u001b[0m \u001b[31m♠\u001b[0m \u001b[31m♠\u001b[0m \u001b[31m♠\u001b[0m \u001b[31m♠\u001b[0m\n",
      "\u001b[34m♠\u001b[0m \u001b[34m♠\u001b[0m \u001b[34m♠\u001b[0m \u001b[31m♠\u001b[0m\n",
      "\u001b[31m♠\u001b[0m \u001b[31m♠\u001b[0m \u001b[31m♠\u001b[0m \u001b[34m♠\u001b[0m \u001b[34m♠\u001b[0m \u001b[31m♠\u001b[0m\n"
     ]
    }
   ],
   "source": [
    "d5 = 딜러(박스번호=5)\n",
    "\n",
    "print(pp(d5(n=8)))\n",
    "print(pp(d5(n=4)))\n",
    "print(pp(d5(n=6)))"
   ]
  },
  {
   "cell_type": "code",
   "execution_count": 6,
   "metadata": {
    "slideshow": {
     "slide_type": "fragment"
    }
   },
   "outputs": [
    {
     "name": "stdout",
     "output_type": "stream",
     "text": [
      "\u001b[31m♠\u001b[0m \u001b[34m♠\u001b[0m \u001b[34m♠\u001b[0m \u001b[34m♠\u001b[0m \u001b[34m♠\u001b[0m \u001b[34m♠\u001b[0m \u001b[34m♠\u001b[0m \u001b[34m♠\u001b[0m \u001b[31m♠\u001b[0m \u001b[34m♠\u001b[0m\n",
      "\u001b[34m♠\u001b[0m \u001b[31m♠\u001b[0m \u001b[31m♠\u001b[0m \u001b[31m♠\u001b[0m \u001b[34m♠\u001b[0m \u001b[34m♠\u001b[0m \u001b[34m♠\u001b[0m \u001b[34m♠\u001b[0m \u001b[34m♠\u001b[0m \u001b[34m♠\u001b[0m\n"
     ]
    }
   ],
   "source": [
    "d3 = 딜러(박스번호=3)\n",
    "print(pp(d3(10)))\n",
    "print(pp(d3(10)))"
   ]
  },
  {
   "cell_type": "markdown",
   "metadata": {
    "slideshow": {
     "slide_type": "slide"
    }
   },
   "source": [
    "------\n",
    "### 딜러 박스번호 예측하기 \n",
    "* 딜러가 복원추출한 10장의 카드만 관찰한 후  \n",
    "* 딜러가 몇 번째 박스를 가지고 있는지 예측해 보자"
   ]
  },
  {
   "cell_type": "code",
   "execution_count": 7,
   "metadata": {
    "slideshow": {
     "slide_type": "subslide"
    }
   },
   "outputs": [],
   "source": [
    "def 딜러의_박스번호_예측하기(cards):\n",
    "    assert len(cards) == 10\n",
    "    cnt_red = cards.count('R')\n",
    "    box_label = cnt_red\n",
    "    return box_label "
   ]
  },
  {
   "cell_type": "code",
   "execution_count": 8,
   "metadata": {
    "slideshow": {
     "slide_type": "fragment"
    }
   },
   "outputs": [
    {
     "name": "stdout",
     "output_type": "stream",
     "text": [
      "\u001b[31m♠\u001b[0m \u001b[34m♠\u001b[0m \u001b[31m♠\u001b[0m \u001b[34m♠\u001b[0m \u001b[31m♠\u001b[0m \u001b[31m♠\u001b[0m \u001b[31m♠\u001b[0m \u001b[34m♠\u001b[0m \u001b[31m♠\u001b[0m \u001b[34m♠\u001b[0m\n"
     ]
    }
   ],
   "source": [
    "cards = d5(n=10) \n",
    "print(pp(cards))"
   ]
  },
  {
   "cell_type": "code",
   "execution_count": 9,
   "metadata": {
    "slideshow": {
     "slide_type": "fragment"
    }
   },
   "outputs": [
    {
     "name": "stdout",
     "output_type": "stream",
     "text": [
      "예측_박스번호: 6\n"
     ]
    }
   ],
   "source": [
    "예측_박스번호 = 딜러의_박스번호_예측하기(cards)\n",
    "print('예측_박스번호:', 예측_박스번호)"
   ]
  },
  {
   "cell_type": "code",
   "execution_count": 11,
   "metadata": {},
   "outputs": [
    {
     "name": "stdout",
     "output_type": "stream",
     "text": [
      "Requirement already satisfied: tqdm in /home/kts123/miniconda3/lib/python3.7/site-packages (4.36.1)\n"
     ]
    },
    {
     "data": {
      "application/vnd.jupyter.widget-view+json": {
       "model_id": "f209734dac43460aa7b2cef9750dae9f",
       "version_major": 2,
       "version_minor": 0
      },
      "text/plain": [
       "HBox(children=(IntProgress(value=0, max=10000), HTML(value='')))"
      ]
     },
     "metadata": {},
     "output_type": "display_data"
    },
    {
     "name": "stdout",
     "output_type": "stream",
     "text": [
      "\n"
     ]
    },
    {
     "data": {
      "application/vnd.jupyter.widget-view+json": {
       "model_id": "677b8f006d704a0381cfbc2ad6666209",
       "version_major": 2,
       "version_minor": 0
      },
      "text/plain": [
       "HBox(children=(IntProgress(value=0, max=10000), HTML(value='')))"
      ]
     },
     "metadata": {},
     "output_type": "display_data"
    },
    {
     "name": "stdout",
     "output_type": "stream",
     "text": [
      "\n"
     ]
    },
    {
     "data": {
      "text/plain": [
       "0.419"
      ]
     },
     "execution_count": 11,
     "metadata": {},
     "output_type": "execute_result"
    }
   ],
   "source": [
    "!pip install tqdm\n",
    "from tqdm.notebook import tqdm\n",
    "def 예측_테스트(예측함수, 테스트_횟수):\n",
    "    박스번호들 = [random.randint(0,10) for _ in range(테스트_횟수)]\n",
    "    딜러들 = [딜러(b) for b in 박스번호들]\n",
    "    카드들 = [d(n=10) for d in 딜러들]\n",
    "    예측들 = [예측함수(c10) for c10 in tqdm(카드들)]\n",
    "    equals = sum([1 for p, b in tqdm(zip(예측들, 박스번호들), total=len(박스번호들)) if p == b])\n",
    "    return equals/테스트_횟수\n",
    "\n",
    "예측_테스트(딜러의_박스번호_예측하기, 테스트_횟수=10000)"
   ]
  },
  {
   "cell_type": "markdown",
   "metadata": {
    "slideshow": {
     "slide_type": "slide"
    }
   },
   "source": [
    "------\n",
    "### 딜러가 추출하는 카드의 분포를 살펴보자\n",
    "\n",
    " P(z = 1) := 딜러가 1번 상자를 가지고 있을 확률\n",
    " P(X = 3) := 뽑힌 10개 카드에서 Red카드가 3개 관측될 확률\n",
    "\n",
    " P(z = 4) := 1/11\n",
    " P(X = 3) := 0번 박스일 때 3개 나올 확률 => P(X = 3 | z = 0)\n",
    "             1번 박스일 때 3개 나올 확률 => P(X = 3 | z = 1)\n",
    "             ...\n",
    "             10번 박스일 때 3개 나올 확률 => P(X = 3 | z = 10)\n",
    "\n",
    "P(z|X) = p(X|z) * P(z) / P(X)\n",
    "\n",
    "\n",
    "P(z =0 | X = 3) \n",
    "P(z =1 | X = 3)\n",
    "P(z =3 | X = 3)\n",
    "...\n",
    "P(z =0 | X = 3)"
   ]
  },
  {
   "cell_type": "code",
   "execution_count": 13,
   "metadata": {
    "slideshow": {
     "slide_type": "fragment"
    }
   },
   "outputs": [],
   "source": [
    "import matplotlib.pyplot as plt\n",
    "\n",
    "def show_red_dist(box_number):\n",
    "    d = 딜러(box_number)\n",
    "    cards = [d(n=10) for _ in range(100000)]\n",
    "    num_red = [c.count('R') for c in cards]\n",
    "    histogram = [num_red.count(n)/len(cards) for n in range(11)] \n",
    "    plt.bar([f'r#{i}' for i in range(11)], histogram)\n",
    "    plt.show()\n",
    "    "
   ]
  },
  {
   "cell_type": "code",
   "execution_count": 14,
   "metadata": {},
   "outputs": [
    {
     "data": {
      "application/vnd.jupyter.widget-view+json": {
       "model_id": "1f4abfc75f0241e394a95f20236330d0",
       "version_major": 2,
       "version_minor": 0
      },
      "text/plain": [
       "HBox(children=(IntProgress(value=0, max=11), HTML(value='')))"
      ]
     },
     "metadata": {},
     "output_type": "display_data"
    },
    {
     "name": "stdout",
     "output_type": "stream",
     "text": [
      "상자안의 red 카드 개수(0):  \u001b[34m♠\u001b[0m \u001b[34m♠\u001b[0m \u001b[34m♠\u001b[0m \u001b[34m♠\u001b[0m \u001b[34m♠\u001b[0m \u001b[34m♠\u001b[0m \u001b[34m♠\u001b[0m \u001b[34m♠\u001b[0m \u001b[34m♠\u001b[0m \u001b[34m♠\u001b[0m\n",
      "해당 상자에서 10개의 카드를 복원추출 했을 때의 red 카드 갯수별 기댓값\n"
     ]
    },
    {
     "data": {
      "image/png": "[encoded data removed]",
      "text/plain": [
       "<Figure size 432x288 with 1 Axes>"
      ]
     },
     "metadata": {
      "needs_background": "light"
     },
     "output_type": "display_data"
    },
    {
     "name": "stdout",
     "output_type": "stream",
     "text": [
      "\n",
      "\n",
      "\n",
      "상자안의 red 카드 개수(1):  \u001b[31m♠\u001b[0m \u001b[34m♠\u001b[0m \u001b[34m♠\u001b[0m \u001b[34m♠\u001b[0m \u001b[34m♠\u001b[0m \u001b[34m♠\u001b[0m \u001b[34m♠\u001b[0m \u001b[34m♠\u001b[0m \u001b[34m♠\u001b[0m \u001b[34m♠\u001b[0m\n",
      "해당 상자에서 10개의 카드를 복원추출 했을 때의 red 카드 갯수별 기댓값\n"
     ]
    },
    {
     "data": {
      "image/png": "[encoded data removed]",
      "text/plain": [
       "<Figure size 432x288 with 1 Axes>"
      ]
     },
     "metadata": {
      "needs_background": "light"
     },
     "output_type": "display_data"
    },
    {
     "name": "stdout",
     "output_type": "stream",
     "text": [
      "\n",
      "\n",
      "\n",
      "상자안의 red 카드 개수(2):  \u001b[31m♠\u001b[0m \u001b[31m♠\u001b[0m \u001b[34m♠\u001b[0m \u001b[34m♠\u001b[0m \u001b[34m♠\u001b[0m \u001b[34m♠\u001b[0m \u001b[34m♠\u001b[0m \u001b[34m♠\u001b[0m \u001b[34m♠\u001b[0m \u001b[34m♠\u001b[0m\n",
      "해당 상자에서 10개의 카드를 복원추출 했을 때의 red 카드 갯수별 기댓값\n"
     ]
    },
    {
     "data": {
      "image/png": "[encoded data removed]",
      "text/plain": [
       "<Figure size 432x288 with 1 Axes>"
      ]
     },
     "metadata": {
      "needs_background": "light"
     },
     "output_type": "display_data"
    },
    {
     "name": "stdout",
     "output_type": "stream",
     "text": [
      "\n",
      "\n",
      "\n",
      "상자안의 red 카드 개수(3):  \u001b[31m♠\u001b[0m \u001b[31m♠\u001b[0m \u001b[31m♠\u001b[0m \u001b[34m♠\u001b[0m \u001b[34m♠\u001b[0m \u001b[34m♠\u001b[0m \u001b[34m♠\u001b[0m \u001b[34m♠\u001b[0m \u001b[34m♠\u001b[0m \u001b[34m♠\u001b[0m\n",
      "해당 상자에서 10개의 카드를 복원추출 했을 때의 red 카드 갯수별 기댓값\n"
     ]
    },
    {
     "data": {
      "image/png": "[encoded data removed]",
      "text/plain": [
       "<Figure size 432x288 with 1 Axes>"
      ]
     },
     "metadata": {
      "needs_background": "light"
     },
     "output_type": "display_data"
    },
    {
     "name": "stdout",
     "output_type": "stream",
     "text": [
      "\n",
      "\n",
      "\n",
      "상자안의 red 카드 개수(4):  \u001b[31m♠\u001b[0m \u001b[31m♠\u001b[0m \u001b[31m♠\u001b[0m \u001b[31m♠\u001b[0m \u001b[34m♠\u001b[0m \u001b[34m♠\u001b[0m \u001b[34m♠\u001b[0m \u001b[34m♠\u001b[0m \u001b[34m♠\u001b[0m \u001b[34m♠\u001b[0m\n",
      "해당 상자에서 10개의 카드를 복원추출 했을 때의 red 카드 갯수별 기댓값\n"
     ]
    },
    {
     "data": {
      "image/png": "[encoded data removed]",
      "text/plain": [
       "<Figure size 432x288 with 1 Axes>"
      ]
     },
     "metadata": {
      "needs_background": "light"
     },
     "output_type": "display_data"
    },
    {
     "name": "stdout",
     "output_type": "stream",
     "text": [
      "\n",
      "\n",
      "\n",
      "상자안의 red 카드 개수(5):  \u001b[31m♠\u001b[0m \u001b[31m♠\u001b[0m \u001b[31m♠\u001b[0m \u001b[31m♠\u001b[0m \u001b[31m♠\u001b[0m \u001b[34m♠\u001b[0m \u001b[34m♠\u001b[0m \u001b[34m♠\u001b[0m \u001b[34m♠\u001b[0m \u001b[34m♠\u001b[0m\n",
      "해당 상자에서 10개의 카드를 복원추출 했을 때의 red 카드 갯수별 기댓값\n"
     ]
    },
    {
     "data": {
      "image/png": "[encoded data removed]",
      "text/plain": [
       "<Figure size 432x288 with 1 Axes>"
      ]
     },
     "metadata": {
      "needs_background": "light"
     },
     "output_type": "display_data"
    },
    {
     "name": "stdout",
     "output_type": "stream",
     "text": [
      "\n",
      "\n",
      "\n",
      "상자안의 red 카드 개수(6):  \u001b[31m♠\u001b[0m \u001b[31m♠\u001b[0m \u001b[31m♠\u001b[0m \u001b[31m♠\u001b[0m \u001b[31m♠\u001b[0m \u001b[31m♠\u001b[0m \u001b[34m♠\u001b[0m \u001b[34m♠\u001b[0m \u001b[34m♠\u001b[0m \u001b[34m♠\u001b[0m\n",
      "해당 상자에서 10개의 카드를 복원추출 했을 때의 red 카드 갯수별 기댓값\n"
     ]
    },
    {
     "data": {
      "image/png": "[encoded data removed]",
      "text/plain": [
       "<Figure size 432x288 with 1 Axes>"
      ]
     },
     "metadata": {
      "needs_background": "light"
     },
     "output_type": "display_data"
    },
    {
     "name": "stdout",
     "output_type": "stream",
     "text": [
      "\n",
      "\n",
      "\n",
      "상자안의 red 카드 개수(7):  \u001b[31m♠\u001b[0m \u001b[31m♠\u001b[0m \u001b[31m♠\u001b[0m \u001b[31m♠\u001b[0m \u001b[31m♠\u001b[0m \u001b[31m♠\u001b[0m \u001b[31m♠\u001b[0m \u001b[34m♠\u001b[0m \u001b[34m♠\u001b[0m \u001b[34m♠\u001b[0m\n",
      "해당 상자에서 10개의 카드를 복원추출 했을 때의 red 카드 갯수별 기댓값\n"
     ]
    },
    {
     "data": {
      "image/png": "[encoded data removed]",
      "text/plain": [
       "<Figure size 432x288 with 1 Axes>"
      ]
     },
     "metadata": {
      "needs_background": "light"
     },
     "output_type": "display_data"
    },
    {
     "name": "stdout",
     "output_type": "stream",
     "text": [
      "\n",
      "\n",
      "\n",
      "상자안의 red 카드 개수(8):  \u001b[31m♠\u001b[0m \u001b[31m♠\u001b[0m \u001b[31m♠\u001b[0m \u001b[31m♠\u001b[0m \u001b[31m♠\u001b[0m \u001b[31m♠\u001b[0m \u001b[31m♠\u001b[0m \u001b[31m♠\u001b[0m \u001b[34m♠\u001b[0m \u001b[34m♠\u001b[0m\n",
      "해당 상자에서 10개의 카드를 복원추출 했을 때의 red 카드 갯수별 기댓값\n"
     ]
    },
    {
     "data": {
      "image/png": "[encoded data removed]",
      "text/plain": [
       "<Figure size 432x288 with 1 Axes>"
      ]
     },
     "metadata": {
      "needs_background": "light"
     },
     "output_type": "display_data"
    },
    {
     "name": "stdout",
     "output_type": "stream",
     "text": [
      "\n",
      "\n",
      "\n",
      "상자안의 red 카드 개수(9):  \u001b[31m♠\u001b[0m \u001b[31m♠\u001b[0m \u001b[31m♠\u001b[0m \u001b[31m♠\u001b[0m \u001b[31m♠\u001b[0m \u001b[31m♠\u001b[0m \u001b[31m♠\u001b[0m \u001b[31m♠\u001b[0m \u001b[31m♠\u001b[0m \u001b[34m♠\u001b[0m\n",
      "해당 상자에서 10개의 카드를 복원추출 했을 때의 red 카드 갯수별 기댓값\n"
     ]
    },
    {
     "data": {
      "image/png": "[encoded data removed]",
      "text/plain": [
       "<Figure size 432x288 with 1 Axes>"
      ]
     },
     "metadata": {
      "needs_background": "light"
     },
     "output_type": "display_data"
    },
    {
     "name": "stdout",
     "output_type": "stream",
     "text": [
      "\n",
      "\n",
      "\n",
      "상자안의 red 카드 개수(10):  \u001b[31m♠\u001b[0m \u001b[31m♠\u001b[0m \u001b[31m♠\u001b[0m \u001b[31m♠\u001b[0m \u001b[31m♠\u001b[0m \u001b[31m♠\u001b[0m \u001b[31m♠\u001b[0m \u001b[31m♠\u001b[0m \u001b[31m♠\u001b[0m \u001b[31m♠\u001b[0m\n",
      "해당 상자에서 10개의 카드를 복원추출 했을 때의 red 카드 갯수별 기댓값\n"
     ]
    },
    {
     "data": {
      "image/png": "[encoded data removed]",
      "text/plain": [
       "<Figure size 432x288 with 1 Axes>"
      ]
     },
     "metadata": {
      "needs_background": "light"
     },
     "output_type": "display_data"
    },
    {
     "name": "stdout",
     "output_type": "stream",
     "text": [
      "\n",
      "\n",
      "\n",
      "\n"
     ]
    }
   ],
   "source": [
    "from tqdm.notebook import tqdm\n",
    "\n",
    "for i in tqdm(range(11)):\n",
    "    print(f'상자안의 red 카드 개수({i}): ', pp(boxes[i]))\n",
    "    print('해당 상자에서 10개의 카드를 복원추출 했을 때의 red 카드 갯수별 기댓값')\n",
    "    show_red_dist(i)\n",
    "    print('\\n\\n')"
   ]
  },
  {
   "cell_type": "markdown",
   "metadata": {
    "slideshow": {
     "slide_type": "slide"
    }
   },
   "source": [
    "------\n",
    "### ■ 미리 생각해 볼 내용: 딜러가 다음에 꺼낼 카드 예측하기\n",
    "* 딜러가 복원추출한 10장의 카드만 관찰한 후  \n",
    "* 딜러가 꺼낼 다음번 카드를 예측해 보자"
   ]
  },
  {
   "cell_type": "code",
   "execution_count": 15,
   "metadata": {
    "slideshow": {
     "slide_type": "fragment"
    }
   },
   "outputs": [],
   "source": [
    "def 다음에_꺼낼_카드_예측하기(cards):\n",
    "    assert len(cards) == 10 #\n",
    "    빨간카드갯수 =  cards.count('R') \n",
    "    박스번호예측값 = 딜러의_박스번호_예측하기(cards)\n",
    "    다음카드 = 'R'\n",
    "    ''' 여기를 구현하시오'''\n",
    "    return 다음카드 "
   ]
  },
  {
   "cell_type": "code",
   "execution_count": 16,
   "metadata": {
    "slideshow": {
     "slide_type": "fragment"
    }
   },
   "outputs": [
    {
     "name": "stdout",
     "output_type": "stream",
     "text": [
      "\u001b[31m♠\u001b[0m \u001b[31m♠\u001b[0m \u001b[34m♠\u001b[0m \u001b[31m♠\u001b[0m \u001b[34m♠\u001b[0m \u001b[34m♠\u001b[0m \u001b[34m♠\u001b[0m \u001b[31m♠\u001b[0m \u001b[31m♠\u001b[0m \u001b[34m♠\u001b[0m\n"
     ]
    },
    {
     "data": {
      "text/plain": [
       "'R'"
      ]
     },
     "execution_count": 16,
     "metadata": {},
     "output_type": "execute_result"
    }
   ],
   "source": [
    "cards = d5(n=10) \n",
    "print(pp(cards))\n",
    "\n",
    "다음에_꺼낼_카드_예측하기(cards)"
   ]
  },
  {
   "cell_type": "code",
   "execution_count": 18,
   "metadata": {},
   "outputs": [],
   "source": [
    "def predict_box(cards):\n",
    "    assert len(cards) == 10\n",
    "    r = cards.count('R') \n",
    "    return r\n",
    "\n",
    "def predict_next_card(cards):\n",
    "    assert len(cards) == 10\n",
    "    box = predict_box(cards)\n",
    "    if box < 5:\n",
    "        return 'B'\n",
    "    return 'R'"
   ]
  },
  {
   "cell_type": "code",
   "execution_count": 19,
   "metadata": {},
   "outputs": [
    {
     "data": {
      "application/vnd.jupyter.widget-view+json": {
       "model_id": "15fbc6827fc0415fbed8a4a49be5afad",
       "version_major": 2,
       "version_minor": 0
      },
      "text/plain": [
       "HBox(children=(IntProgress(value=0, max=100000), HTML(value='')))"
      ]
     },
     "metadata": {},
     "output_type": "display_data"
    },
    {
     "name": "stdout",
     "output_type": "stream",
     "text": [
      "\n"
     ]
    },
    {
     "data": {
      "text/plain": [
       "0.75281"
      ]
     },
     "execution_count": 19,
     "metadata": {},
     "output_type": "execute_result"
    }
   ],
   "source": [
    "def 예측_테스트_2(예측함수, 테스트_횟수):\n",
    "    박스번호들 = [random.randint(0,10) for _ in range(테스트_횟수)]\n",
    "    딜러들 = [딜러(b) for b in 박스번호들]\n",
    "    카드들 = [d(n=10) for d in 딜러들]\n",
    "    예측들 = [예측함수(c10[:10]) for c10 in tqdm(카드들)]\n",
    "    그다음카드들 = [d(n=1)[0] for d in 딜러들]\n",
    "    equals = sum([1 for p, b in zip(예측들, 그다음카드들) if p == b])\n",
    "    return equals/테스트_횟수\n",
    "\n",
    "#예측_테스트(다음에_꺼낼_카드_예측하기, 테스트_횟수=1000)\n",
    "예측_테스트_2(predict_next_card, 테스트_횟수=100000)"
   ]
  },
  {
   "cell_type": "code",
   "execution_count": 20,
   "metadata": {},
   "outputs": [
    {
     "data": {
      "application/vnd.jupyter.widget-view+json": {
       "model_id": "5177b1c7b01a4be98b14d5e276cd6e6f",
       "version_major": 2,
       "version_minor": 0
      },
      "text/plain": [
       "HBox(children=(IntProgress(value=0, max=1000000), HTML(value='')))"
      ]
     },
     "metadata": {},
     "output_type": "display_data"
    },
    {
     "name": "stdout",
     "output_type": "stream",
     "text": [
      "\n"
     ]
    },
    {
     "data": {
      "application/vnd.jupyter.widget-view+json": {
       "model_id": "e9b89275feba41cda54cf3f76e5d18ee",
       "version_major": 2,
       "version_minor": 0
      },
      "text/plain": [
       "HBox(children=(IntProgress(value=0, max=1000000), HTML(value='')))"
      ]
     },
     "metadata": {},
     "output_type": "display_data"
    },
    {
     "name": "stdout",
     "output_type": "stream",
     "text": [
      "\n"
     ]
    },
    {
     "data": {
      "application/vnd.jupyter.widget-view+json": {
       "model_id": "e116d467340242c0b9d35431e5e77bd5",
       "version_major": 2,
       "version_minor": 0
      },
      "text/plain": [
       "HBox(children=(IntProgress(value=0, max=1000000), HTML(value='')))"
      ]
     },
     "metadata": {},
     "output_type": "display_data"
    },
    {
     "name": "stdout",
     "output_type": "stream",
     "text": [
      "\n"
     ]
    }
   ],
   "source": [
    "박스_갯수 = 1000000\n",
    "박스번호들 = [random.randint(0,10) for _ in range(박스_갯수)]\n",
    "딜러들 = [(b, 딜러(b)) for b in tqdm(박스번호들)]\n",
    "카드들 = [(b, d(n=11)) for b, d in tqdm(딜러들)]\n",
    "다음카드들 = [(c[:10].count('R'), c[10]) for b, c in tqdm(카드들)]"
   ]
  },
  {
   "cell_type": "code",
   "execution_count": 21,
   "metadata": {},
   "outputs": [
    {
     "data": {
      "application/vnd.jupyter.widget-view+json": {
       "model_id": "e82ff64378a44a5baf2ebce179fc9bb9",
       "version_major": 2,
       "version_minor": 0
      },
      "text/plain": [
       "HBox(children=(IntProgress(value=0, max=1000), HTML(value='')))"
      ]
     },
     "metadata": {},
     "output_type": "display_data"
    },
    {
     "name": "stdout",
     "output_type": "stream",
     "text": [
      "\n"
     ]
    },
    {
     "data": {
      "text/plain": [
       "0.668"
      ]
     },
     "execution_count": 21,
     "metadata": {},
     "output_type": "execute_result"
    }
   ],
   "source": [
    "def predict_next_card_2(cards):\n",
    "    n_r = cards.count('R')\n",
    "    s_d = [next_card for (cnt_red, next_card) in 다음카드들 if cnt_red == n_r]\n",
    "    n_c = random.choice(s_d)\n",
    "    return n_c\n",
    "\n",
    "예측_테스트_2(predict_next_card_2, 테스트_횟수=1000)"
   ]
  },
  {
   "cell_type": "code",
   "execution_count": null,
   "metadata": {},
   "outputs": [],
   "source": []
  }
 ],
 "metadata": {
  "kernelspec": {
   "display_name": "Python 3",
   "language": "python",
   "name": "python3"
  },
  "language_info": {
   "codemirror_mode": {
    "name": "ipython",
    "version": 3
   },
   "file_extension": ".py",
   "mimetype": "text/x-python",
   "name": "python",
   "nbconvert_exporter": "python",
   "pygments_lexer": "ipython3",
   "version": "3.7.4"
  }
 },
 "nbformat": 4,
 "nbformat_minor": 4
}
